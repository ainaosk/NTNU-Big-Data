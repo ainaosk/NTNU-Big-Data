{
 "cells": [
  {
   "cell_type": "markdown",
   "metadata": {},
   "source": [
    "# Classification using k-Nearest Neighbors\n",
    "\n",
    "## Dataset: Credit Approval Decisions"
   ]
  },
  {
   "cell_type": "markdown",
   "metadata": {},
   "source": [
    "## Import packages"
   ]
  },
  {
   "cell_type": "code",
   "execution_count": 105,
   "metadata": {},
   "outputs": [],
   "source": [
    "#Data preparation\n",
    "import numpy as np\n",
    "import pandas as pd\n",
    "\n",
    "#Classification\n",
    "from sklearn.neighbors import KNeighborsClassifier\n",
    "from sklearn.metrics import accuracy_score\n",
    "from sklearn.model_selection import train_test_split\n",
    "from sklearn.preprocessing import MinMaxScaler"
   ]
  },
  {
   "cell_type": "markdown",
   "metadata": {},
   "source": [
    "## Load dataset"
   ]
  },
  {
   "cell_type": "code",
   "execution_count": 106,
   "metadata": {},
   "outputs": [],
   "source": [
    "df_train = pd.read_csv('credit_approval_decisions_train.csv')\n",
    "df_predict = pd.read_csv('credit_approval_decisions_test.csv')"
   ]
  },
  {
   "cell_type": "code",
   "execution_count": 3,
   "metadata": {},
   "outputs": [
    {
     "data": {
      "text/html": [
       "<div>\n",
       "<style scoped>\n",
       "    .dataframe tbody tr th:only-of-type {\n",
       "        vertical-align: middle;\n",
       "    }\n",
       "\n",
       "    .dataframe tbody tr th {\n",
       "        vertical-align: top;\n",
       "    }\n",
       "\n",
       "    .dataframe thead th {\n",
       "        text-align: right;\n",
       "    }\n",
       "</style>\n",
       "<table border=\"1\" class=\"dataframe\">\n",
       "  <thead>\n",
       "    <tr style=\"text-align: right;\">\n",
       "      <th></th>\n",
       "      <th>Homeowner</th>\n",
       "      <th>Credit_Score</th>\n",
       "      <th>Years_of_Credit_History</th>\n",
       "      <th>Revolving_Balance</th>\n",
       "      <th>Revolving_Utilization</th>\n",
       "      <th>Decision</th>\n",
       "    </tr>\n",
       "  </thead>\n",
       "  <tbody>\n",
       "    <tr>\n",
       "      <th>0</th>\n",
       "      <td>Y</td>\n",
       "      <td>725</td>\n",
       "      <td>20</td>\n",
       "      <td>$11,320</td>\n",
       "      <td>25%</td>\n",
       "      <td>Approve</td>\n",
       "    </tr>\n",
       "    <tr>\n",
       "      <th>1</th>\n",
       "      <td>Y</td>\n",
       "      <td>573</td>\n",
       "      <td>9</td>\n",
       "      <td>$7,200</td>\n",
       "      <td>70%</td>\n",
       "      <td>Reject</td>\n",
       "    </tr>\n",
       "    <tr>\n",
       "      <th>2</th>\n",
       "      <td>Y</td>\n",
       "      <td>677</td>\n",
       "      <td>11</td>\n",
       "      <td>$20,000</td>\n",
       "      <td>55%</td>\n",
       "      <td>Approve</td>\n",
       "    </tr>\n",
       "    <tr>\n",
       "      <th>3</th>\n",
       "      <td>N</td>\n",
       "      <td>625</td>\n",
       "      <td>15</td>\n",
       "      <td>$12,800</td>\n",
       "      <td>65%</td>\n",
       "      <td>Reject</td>\n",
       "    </tr>\n",
       "    <tr>\n",
       "      <th>4</th>\n",
       "      <td>N</td>\n",
       "      <td>527</td>\n",
       "      <td>12</td>\n",
       "      <td>$5,700</td>\n",
       "      <td>75%</td>\n",
       "      <td>Reject</td>\n",
       "    </tr>\n",
       "  </tbody>\n",
       "</table>\n",
       "</div>"
      ],
      "text/plain": [
       "  Homeowner  Credit_Score  Years_of_Credit_History Revolving_Balance  \\\n",
       "0         Y           725                       20          $11,320    \n",
       "1         Y           573                        9           $7,200    \n",
       "2         Y           677                       11          $20,000    \n",
       "3         N           625                       15          $12,800    \n",
       "4         N           527                       12           $5,700    \n",
       "\n",
       "  Revolving_Utilization Decision  \n",
       "0                   25%  Approve  \n",
       "1                   70%   Reject  \n",
       "2                   55%  Approve  \n",
       "3                   65%   Reject  \n",
       "4                   75%   Reject  "
      ]
     },
     "execution_count": 3,
     "metadata": {},
     "output_type": "execute_result"
    }
   ],
   "source": [
    "df_train.head()"
   ]
  },
  {
   "cell_type": "markdown",
   "metadata": {},
   "source": [
    "## Explore dataset\n",
    "### Data types"
   ]
  },
  {
   "cell_type": "markdown",
   "metadata": {},
   "source": [
    "The data types of the different variables in the dataset are:"
   ]
  },
  {
   "cell_type": "code",
   "execution_count": 72,
   "metadata": {},
   "outputs": [
    {
     "data": {
      "text/plain": [
       "Homeowner                   object\n",
       "Credit_Score                 int64\n",
       "Years_of_Credit_History      int64\n",
       "Revolving_Balance          float64\n",
       "Revolving_Utilization      float64\n",
       "Decision                    object\n",
       "dtype: object"
      ]
     },
     "execution_count": 72,
     "metadata": {},
     "output_type": "execute_result"
    }
   ],
   "source": [
    "df_train.dtypes"
   ]
  },
  {
   "cell_type": "code",
   "execution_count": 54,
   "metadata": {},
   "outputs": [
    {
     "data": {
      "text/plain": [
       "Homeowner                   object\n",
       "Credit_Score                 int64\n",
       "Years_of_Credit_History      int64\n",
       "Revolving_Balance           object\n",
       "Revolving_Utilization       object\n",
       "Decision                   float64\n",
       "dtype: object"
      ]
     },
     "execution_count": 54,
     "metadata": {},
     "output_type": "execute_result"
    }
   ],
   "source": [
    "df_predict.dtypes"
   ]
  },
  {
   "cell_type": "markdown",
   "metadata": {},
   "source": [
    "For machine learning purposes, all variables have to be numerical. \n",
    "'Homeowner', 'Revolving Balance', 'Revolving Utilization' and 'Decision' must therefore be converted to numerical."
   ]
  },
  {
   "cell_type": "markdown",
   "metadata": {},
   "source": [
    "### Shape\n",
    "The number of rows and columns in the dataset can be found with DataFrame.shape:"
   ]
  },
  {
   "cell_type": "code",
   "execution_count": 13,
   "metadata": {},
   "outputs": [
    {
     "data": {
      "text/plain": [
       "(51, 6)"
      ]
     },
     "execution_count": 13,
     "metadata": {},
     "output_type": "execute_result"
    }
   ],
   "source": [
    "df_train.shape"
   ]
  },
  {
   "cell_type": "code",
   "execution_count": 19,
   "metadata": {},
   "outputs": [
    {
     "data": {
      "text/plain": [
       "(7, 6)"
      ]
     },
     "execution_count": 19,
     "metadata": {},
     "output_type": "execute_result"
    }
   ],
   "source": [
    "df_predict.shape"
   ]
  },
  {
   "cell_type": "markdown",
   "metadata": {},
   "source": [
    "As seen above, the training dataset has 51 rows and 6 columns.\n",
    "The testing dataset has 7 rows and 6 columns."
   ]
  },
  {
   "cell_type": "markdown",
   "metadata": {},
   "source": [
    "## Data preparation\n",
    "\n",
    "* Change data type of 'Revolving Balance' and 'Revolving Utilization' to numerical\n",
    "* Convert categorical variables 'Homeowner' and 'Decision' to numerical"
   ]
  },
  {
   "cell_type": "markdown",
   "metadata": {},
   "source": [
    "### Change data type to numerical"
   ]
  },
  {
   "cell_type": "code",
   "execution_count": 107,
   "metadata": {},
   "outputs": [],
   "source": [
    "df_train['Revolving_Balance'] = df_train['Revolving_Balance'].str.lstrip('$')\n",
    "df_train['Revolving_Balance'] = df_train['Revolving_Balance'].str.replace(',', '')\n",
    "df_train['Revolving_Balance'] = df_train['Revolving_Balance'].astype(float)\n",
    "\n",
    "df_train['Revolving_Utilization'] = df_train['Revolving_Utilization'].str.rstrip('%')\n",
    "df_train['Revolving_Utilization'] = df_train['Revolving_Utilization'].astype(float)/100\n",
    "\n",
    "df_predict['Revolving_Balance'] = df_predict['Revolving_Balance'].str.lstrip('$')\n",
    "df_predict['Revolving_Balance'] = df_predict['Revolving_Balance'].str.replace(',', '')\n",
    "df_predict['Revolving_Balance'] = df_predict['Revolving_Balance'].astype(float)\n",
    "\n",
    "df_predict['Revolving_Utilization'] = df_predict['Revolving_Utilization'].str.rstrip('%')\n",
    "df_predict['Revolving_Utilization'] = df_predict['Revolving_Utilization'].astype(float)/100"
   ]
  },
  {
   "cell_type": "code",
   "execution_count": 57,
   "metadata": {},
   "outputs": [
    {
     "data": {
      "text/html": [
       "<div>\n",
       "<style scoped>\n",
       "    .dataframe tbody tr th:only-of-type {\n",
       "        vertical-align: middle;\n",
       "    }\n",
       "\n",
       "    .dataframe tbody tr th {\n",
       "        vertical-align: top;\n",
       "    }\n",
       "\n",
       "    .dataframe thead th {\n",
       "        text-align: right;\n",
       "    }\n",
       "</style>\n",
       "<table border=\"1\" class=\"dataframe\">\n",
       "  <thead>\n",
       "    <tr style=\"text-align: right;\">\n",
       "      <th></th>\n",
       "      <th>Homeowner</th>\n",
       "      <th>Credit_Score</th>\n",
       "      <th>Years_of_Credit_History</th>\n",
       "      <th>Revolving_Balance</th>\n",
       "      <th>Revolving_Utilization</th>\n",
       "      <th>Decision</th>\n",
       "    </tr>\n",
       "  </thead>\n",
       "  <tbody>\n",
       "    <tr>\n",
       "      <th>0</th>\n",
       "      <td>Y</td>\n",
       "      <td>725</td>\n",
       "      <td>20</td>\n",
       "      <td>11320.0</td>\n",
       "      <td>0.25</td>\n",
       "      <td>Approve</td>\n",
       "    </tr>\n",
       "    <tr>\n",
       "      <th>1</th>\n",
       "      <td>Y</td>\n",
       "      <td>573</td>\n",
       "      <td>9</td>\n",
       "      <td>7200.0</td>\n",
       "      <td>0.70</td>\n",
       "      <td>Reject</td>\n",
       "    </tr>\n",
       "    <tr>\n",
       "      <th>2</th>\n",
       "      <td>Y</td>\n",
       "      <td>677</td>\n",
       "      <td>11</td>\n",
       "      <td>20000.0</td>\n",
       "      <td>0.55</td>\n",
       "      <td>Approve</td>\n",
       "    </tr>\n",
       "    <tr>\n",
       "      <th>3</th>\n",
       "      <td>N</td>\n",
       "      <td>625</td>\n",
       "      <td>15</td>\n",
       "      <td>12800.0</td>\n",
       "      <td>0.65</td>\n",
       "      <td>Reject</td>\n",
       "    </tr>\n",
       "    <tr>\n",
       "      <th>4</th>\n",
       "      <td>N</td>\n",
       "      <td>527</td>\n",
       "      <td>12</td>\n",
       "      <td>5700.0</td>\n",
       "      <td>0.75</td>\n",
       "      <td>Reject</td>\n",
       "    </tr>\n",
       "  </tbody>\n",
       "</table>\n",
       "</div>"
      ],
      "text/plain": [
       "  Homeowner  Credit_Score  Years_of_Credit_History  Revolving_Balance  \\\n",
       "0         Y           725                       20            11320.0   \n",
       "1         Y           573                        9             7200.0   \n",
       "2         Y           677                       11            20000.0   \n",
       "3         N           625                       15            12800.0   \n",
       "4         N           527                       12             5700.0   \n",
       "\n",
       "   Revolving_Utilization Decision  \n",
       "0                   0.25  Approve  \n",
       "1                   0.70   Reject  \n",
       "2                   0.55  Approve  \n",
       "3                   0.65   Reject  \n",
       "4                   0.75   Reject  "
      ]
     },
     "execution_count": 57,
     "metadata": {},
     "output_type": "execute_result"
    }
   ],
   "source": [
    "df_train.head()\n",
    "#df_predict.head()"
   ]
  },
  {
   "cell_type": "markdown",
   "metadata": {},
   "source": [
    " ### Convert categorical variables to numerical"
   ]
  },
  {
   "cell_type": "code",
   "execution_count": 108,
   "metadata": {},
   "outputs": [],
   "source": [
    "cat_to_num = {'N': 0, \n",
    "             'Y': 1,\n",
    "             'Reject': 0,\n",
    "             'Approve': 1}\n",
    "\n",
    "df_train.replace(cat_to_num, inplace=True)\n",
    "df_predict.replace(cat_to_num, inplace=True)"
   ]
  },
  {
   "cell_type": "code",
   "execution_count": 59,
   "metadata": {},
   "outputs": [
    {
     "data": {
      "text/html": [
       "<div>\n",
       "<style scoped>\n",
       "    .dataframe tbody tr th:only-of-type {\n",
       "        vertical-align: middle;\n",
       "    }\n",
       "\n",
       "    .dataframe tbody tr th {\n",
       "        vertical-align: top;\n",
       "    }\n",
       "\n",
       "    .dataframe thead th {\n",
       "        text-align: right;\n",
       "    }\n",
       "</style>\n",
       "<table border=\"1\" class=\"dataframe\">\n",
       "  <thead>\n",
       "    <tr style=\"text-align: right;\">\n",
       "      <th></th>\n",
       "      <th>Homeowner</th>\n",
       "      <th>Credit_Score</th>\n",
       "      <th>Years_of_Credit_History</th>\n",
       "      <th>Revolving_Balance</th>\n",
       "      <th>Revolving_Utilization</th>\n",
       "      <th>Decision</th>\n",
       "    </tr>\n",
       "  </thead>\n",
       "  <tbody>\n",
       "    <tr>\n",
       "      <th>0</th>\n",
       "      <td>1</td>\n",
       "      <td>725</td>\n",
       "      <td>20</td>\n",
       "      <td>11320.0</td>\n",
       "      <td>0.25</td>\n",
       "      <td>1</td>\n",
       "    </tr>\n",
       "    <tr>\n",
       "      <th>1</th>\n",
       "      <td>1</td>\n",
       "      <td>573</td>\n",
       "      <td>9</td>\n",
       "      <td>7200.0</td>\n",
       "      <td>0.70</td>\n",
       "      <td>0</td>\n",
       "    </tr>\n",
       "    <tr>\n",
       "      <th>2</th>\n",
       "      <td>1</td>\n",
       "      <td>677</td>\n",
       "      <td>11</td>\n",
       "      <td>20000.0</td>\n",
       "      <td>0.55</td>\n",
       "      <td>1</td>\n",
       "    </tr>\n",
       "    <tr>\n",
       "      <th>3</th>\n",
       "      <td>0</td>\n",
       "      <td>625</td>\n",
       "      <td>15</td>\n",
       "      <td>12800.0</td>\n",
       "      <td>0.65</td>\n",
       "      <td>0</td>\n",
       "    </tr>\n",
       "    <tr>\n",
       "      <th>4</th>\n",
       "      <td>0</td>\n",
       "      <td>527</td>\n",
       "      <td>12</td>\n",
       "      <td>5700.0</td>\n",
       "      <td>0.75</td>\n",
       "      <td>0</td>\n",
       "    </tr>\n",
       "    <tr>\n",
       "      <th>5</th>\n",
       "      <td>1</td>\n",
       "      <td>795</td>\n",
       "      <td>22</td>\n",
       "      <td>9000.0</td>\n",
       "      <td>0.12</td>\n",
       "      <td>1</td>\n",
       "    </tr>\n",
       "    <tr>\n",
       "      <th>6</th>\n",
       "      <td>0</td>\n",
       "      <td>733</td>\n",
       "      <td>7</td>\n",
       "      <td>35200.0</td>\n",
       "      <td>0.20</td>\n",
       "      <td>1</td>\n",
       "    </tr>\n",
       "    <tr>\n",
       "      <th>7</th>\n",
       "      <td>0</td>\n",
       "      <td>620</td>\n",
       "      <td>5</td>\n",
       "      <td>22800.0</td>\n",
       "      <td>0.62</td>\n",
       "      <td>0</td>\n",
       "    </tr>\n",
       "    <tr>\n",
       "      <th>8</th>\n",
       "      <td>1</td>\n",
       "      <td>591</td>\n",
       "      <td>17</td>\n",
       "      <td>16500.0</td>\n",
       "      <td>0.50</td>\n",
       "      <td>0</td>\n",
       "    </tr>\n",
       "    <tr>\n",
       "      <th>9</th>\n",
       "      <td>1</td>\n",
       "      <td>660</td>\n",
       "      <td>24</td>\n",
       "      <td>9200.0</td>\n",
       "      <td>0.35</td>\n",
       "      <td>1</td>\n",
       "    </tr>\n",
       "  </tbody>\n",
       "</table>\n",
       "</div>"
      ],
      "text/plain": [
       "   Homeowner  Credit_Score  Years_of_Credit_History  Revolving_Balance  \\\n",
       "0          1           725                       20            11320.0   \n",
       "1          1           573                        9             7200.0   \n",
       "2          1           677                       11            20000.0   \n",
       "3          0           625                       15            12800.0   \n",
       "4          0           527                       12             5700.0   \n",
       "5          1           795                       22             9000.0   \n",
       "6          0           733                        7            35200.0   \n",
       "7          0           620                        5            22800.0   \n",
       "8          1           591                       17            16500.0   \n",
       "9          1           660                       24             9200.0   \n",
       "\n",
       "   Revolving_Utilization  Decision  \n",
       "0                   0.25         1  \n",
       "1                   0.70         0  \n",
       "2                   0.55         1  \n",
       "3                   0.65         0  \n",
       "4                   0.75         0  \n",
       "5                   0.12         1  \n",
       "6                   0.20         1  \n",
       "7                   0.62         0  \n",
       "8                   0.50         0  \n",
       "9                   0.35         1  "
      ]
     },
     "execution_count": 59,
     "metadata": {},
     "output_type": "execute_result"
    }
   ],
   "source": [
    "df_train.head(10)\n",
    "#df_predict.head()"
   ]
  },
  {
   "cell_type": "code",
   "execution_count": 109,
   "metadata": {},
   "outputs": [],
   "source": [
    "df_train['Decision'] = df_train['Decision'].astype(float)\n",
    "df_train['Homeowner'] = df_train['Homeowner'].astype(float)\n",
    "\n",
    "df_predict= df_predict.drop('Decision', axis=1)\n",
    "df_predict['Homeowner'] = df_predict['Homeowner'].astype(float)"
   ]
  },
  {
   "cell_type": "code",
   "execution_count": 66,
   "metadata": {},
   "outputs": [
    {
     "data": {
      "text/html": [
       "<div>\n",
       "<style scoped>\n",
       "    .dataframe tbody tr th:only-of-type {\n",
       "        vertical-align: middle;\n",
       "    }\n",
       "\n",
       "    .dataframe tbody tr th {\n",
       "        vertical-align: top;\n",
       "    }\n",
       "\n",
       "    .dataframe thead th {\n",
       "        text-align: right;\n",
       "    }\n",
       "</style>\n",
       "<table border=\"1\" class=\"dataframe\">\n",
       "  <thead>\n",
       "    <tr style=\"text-align: right;\">\n",
       "      <th></th>\n",
       "      <th>Homeowner</th>\n",
       "      <th>Credit_Score</th>\n",
       "      <th>Years_of_Credit_History</th>\n",
       "      <th>Revolving_Balance</th>\n",
       "      <th>Revolving_Utilization</th>\n",
       "    </tr>\n",
       "  </thead>\n",
       "  <tbody>\n",
       "    <tr>\n",
       "      <th>0</th>\n",
       "      <td>1.0</td>\n",
       "      <td>700</td>\n",
       "      <td>8</td>\n",
       "      <td>21000.0</td>\n",
       "      <td>0.15</td>\n",
       "    </tr>\n",
       "    <tr>\n",
       "      <th>1</th>\n",
       "      <td>0.0</td>\n",
       "      <td>520</td>\n",
       "      <td>1</td>\n",
       "      <td>4000.0</td>\n",
       "      <td>0.90</td>\n",
       "    </tr>\n",
       "    <tr>\n",
       "      <th>2</th>\n",
       "      <td>1.0</td>\n",
       "      <td>650</td>\n",
       "      <td>10</td>\n",
       "      <td>8500.0</td>\n",
       "      <td>0.25</td>\n",
       "    </tr>\n",
       "    <tr>\n",
       "      <th>3</th>\n",
       "      <td>0.0</td>\n",
       "      <td>602</td>\n",
       "      <td>7</td>\n",
       "      <td>16300.0</td>\n",
       "      <td>0.70</td>\n",
       "    </tr>\n",
       "    <tr>\n",
       "      <th>4</th>\n",
       "      <td>0.0</td>\n",
       "      <td>549</td>\n",
       "      <td>2</td>\n",
       "      <td>2500.0</td>\n",
       "      <td>0.90</td>\n",
       "    </tr>\n",
       "  </tbody>\n",
       "</table>\n",
       "</div>"
      ],
      "text/plain": [
       "   Homeowner  Credit_Score  Years_of_Credit_History  Revolving_Balance  \\\n",
       "0        1.0           700                        8            21000.0   \n",
       "1        0.0           520                        1             4000.0   \n",
       "2        1.0           650                       10             8500.0   \n",
       "3        0.0           602                        7            16300.0   \n",
       "4        0.0           549                        2             2500.0   \n",
       "\n",
       "   Revolving_Utilization  \n",
       "0                   0.15  \n",
       "1                   0.90  \n",
       "2                   0.25  \n",
       "3                   0.70  \n",
       "4                   0.90  "
      ]
     },
     "execution_count": 66,
     "metadata": {},
     "output_type": "execute_result"
    }
   ],
   "source": [
    "df_predict.head()"
   ]
  },
  {
   "cell_type": "markdown",
   "metadata": {},
   "source": [
    "All variables are now numerical."
   ]
  },
  {
   "cell_type": "markdown",
   "metadata": {},
   "source": [
    "## Normalizing and scaling the data\n",
    "\n",
    "When the range of values in a feature is very different from the range in another, normalizing or scaling the values are necessary to improve prediction accuracy. Without scaling, the features with greater numeric range could have more impact than those with a smaller range."
   ]
  },
  {
   "cell_type": "markdown",
   "metadata": {},
   "source": [
    "### Min-Max Normalization\n",
    "\n",
    "Min-Max Normalization is a technique often used with KNN classification problems.\n",
    "<br>The equation for Min-Max Normalization is:\n",
    "\n",
    "\\begin{equation}\n",
    "\\frac{x_i - min(x)}{max(x)-min(x)}\n",
    "\\end{equation}"
   ]
  },
  {
   "cell_type": "code",
   "execution_count": 110,
   "metadata": {},
   "outputs": [],
   "source": [
    "scaler = MinMaxScaler()\n",
    "df_train_minmax = scaler.fit_transform(df_train)\n",
    "df_train_minmax = pd.DataFrame(df_train_minmax, columns = ['Homeowner', 'Credit_Score', 'Years_of_Credit_History', 'Revolving_Balance', 'Revolving_Utilization', 'Decision'])"
   ]
  },
  {
   "cell_type": "code",
   "execution_count": 111,
   "metadata": {},
   "outputs": [
    {
     "data": {
      "text/html": [
       "<div>\n",
       "<style scoped>\n",
       "    .dataframe tbody tr th:only-of-type {\n",
       "        vertical-align: middle;\n",
       "    }\n",
       "\n",
       "    .dataframe tbody tr th {\n",
       "        vertical-align: top;\n",
       "    }\n",
       "\n",
       "    .dataframe thead th {\n",
       "        text-align: right;\n",
       "    }\n",
       "</style>\n",
       "<table border=\"1\" class=\"dataframe\">\n",
       "  <thead>\n",
       "    <tr style=\"text-align: right;\">\n",
       "      <th></th>\n",
       "      <th>Homeowner</th>\n",
       "      <th>Credit_Score</th>\n",
       "      <th>Years_of_Credit_History</th>\n",
       "      <th>Revolving_Balance</th>\n",
       "      <th>Revolving_Utilization</th>\n",
       "    </tr>\n",
       "  </thead>\n",
       "  <tbody>\n",
       "    <tr>\n",
       "      <th>0</th>\n",
       "      <td>1.0</td>\n",
       "      <td>0.810811</td>\n",
       "      <td>0.500000</td>\n",
       "      <td>1.000000</td>\n",
       "      <td>0.000000</td>\n",
       "    </tr>\n",
       "    <tr>\n",
       "      <th>1</th>\n",
       "      <td>0.0</td>\n",
       "      <td>0.000000</td>\n",
       "      <td>0.000000</td>\n",
       "      <td>0.081081</td>\n",
       "      <td>1.000000</td>\n",
       "    </tr>\n",
       "    <tr>\n",
       "      <th>2</th>\n",
       "      <td>1.0</td>\n",
       "      <td>0.585586</td>\n",
       "      <td>0.642857</td>\n",
       "      <td>0.324324</td>\n",
       "      <td>0.133333</td>\n",
       "    </tr>\n",
       "    <tr>\n",
       "      <th>3</th>\n",
       "      <td>0.0</td>\n",
       "      <td>0.369369</td>\n",
       "      <td>0.428571</td>\n",
       "      <td>0.745946</td>\n",
       "      <td>0.733333</td>\n",
       "    </tr>\n",
       "    <tr>\n",
       "      <th>4</th>\n",
       "      <td>0.0</td>\n",
       "      <td>0.130631</td>\n",
       "      <td>0.071429</td>\n",
       "      <td>0.000000</td>\n",
       "      <td>1.000000</td>\n",
       "    </tr>\n",
       "  </tbody>\n",
       "</table>\n",
       "</div>"
      ],
      "text/plain": [
       "   Homeowner  Credit_Score  Years_of_Credit_History  Revolving_Balance  \\\n",
       "0        1.0      0.810811                 0.500000           1.000000   \n",
       "1        0.0      0.000000                 0.000000           0.081081   \n",
       "2        1.0      0.585586                 0.642857           0.324324   \n",
       "3        0.0      0.369369                 0.428571           0.745946   \n",
       "4        0.0      0.130631                 0.071429           0.000000   \n",
       "\n",
       "   Revolving_Utilization  \n",
       "0               0.000000  \n",
       "1               1.000000  \n",
       "2               0.133333  \n",
       "3               0.733333  \n",
       "4               1.000000  "
      ]
     },
     "execution_count": 111,
     "metadata": {},
     "output_type": "execute_result"
    }
   ],
   "source": [
    "df_predict_minmax = scaler.fit_transform(df_predict)\n",
    "df_predict_minmax = pd.DataFrame(df_predict_minmax, columns = ['Homeowner', 'Credit_Score', 'Years_of_Credit_History', 'Revolving_Balance', 'Revolving_Utilization'])\n",
    "\n",
    "\n",
    "df_predict_minmax.head()"
   ]
  },
  {
   "cell_type": "markdown",
   "metadata": {},
   "source": [
    "## Machine learning: KNN Classification"
   ]
  },
  {
   "cell_type": "code",
   "execution_count": 112,
   "metadata": {},
   "outputs": [],
   "source": [
    "X =  df_train_minmax.drop(['Decision'], axis=1)\n",
    "y = df_train_minmax.Decision\n",
    "\n",
    "#Split data into training and testing sets\n",
    "X_train, X_test, y_train, y_test = train_test_split(X, y, random_state=42)"
   ]
  },
  {
   "cell_type": "code",
   "execution_count": 113,
   "metadata": {},
   "outputs": [
    {
     "data": {
      "text/plain": [
       "0.9230769230769231"
      ]
     },
     "execution_count": 113,
     "metadata": {},
     "output_type": "execute_result"
    }
   ],
   "source": [
    "#instantiate learning model\n",
    "knn = KNeighborsClassifier(n_neighbors=14)\n",
    "\n",
    "#fitting the model\n",
    "knn.fit(X_train, y_train)\n",
    "\n",
    "#Accuracy score on test data\n",
    "knn.score(X_test, y_test)"
   ]
  },
  {
   "cell_type": "code",
   "execution_count": 114,
   "metadata": {},
   "outputs": [
    {
     "data": {
      "text/html": [
       "<div>\n",
       "<style scoped>\n",
       "    .dataframe tbody tr th:only-of-type {\n",
       "        vertical-align: middle;\n",
       "    }\n",
       "\n",
       "    .dataframe tbody tr th {\n",
       "        vertical-align: top;\n",
       "    }\n",
       "\n",
       "    .dataframe thead th {\n",
       "        text-align: right;\n",
       "    }\n",
       "</style>\n",
       "<table border=\"1\" class=\"dataframe\">\n",
       "  <thead>\n",
       "    <tr style=\"text-align: right;\">\n",
       "      <th></th>\n",
       "      <th>Homeowner</th>\n",
       "      <th>Credit_Score</th>\n",
       "      <th>Years_of_Credit_History</th>\n",
       "      <th>Revolving_Balance</th>\n",
       "      <th>Revolving_Utilization</th>\n",
       "    </tr>\n",
       "  </thead>\n",
       "  <tbody>\n",
       "    <tr>\n",
       "      <th>0</th>\n",
       "      <td>1.0</td>\n",
       "      <td>0.810811</td>\n",
       "      <td>0.500000</td>\n",
       "      <td>1.000000</td>\n",
       "      <td>0.000000</td>\n",
       "    </tr>\n",
       "    <tr>\n",
       "      <th>1</th>\n",
       "      <td>0.0</td>\n",
       "      <td>0.000000</td>\n",
       "      <td>0.000000</td>\n",
       "      <td>0.081081</td>\n",
       "      <td>1.000000</td>\n",
       "    </tr>\n",
       "    <tr>\n",
       "      <th>2</th>\n",
       "      <td>1.0</td>\n",
       "      <td>0.585586</td>\n",
       "      <td>0.642857</td>\n",
       "      <td>0.324324</td>\n",
       "      <td>0.133333</td>\n",
       "    </tr>\n",
       "    <tr>\n",
       "      <th>3</th>\n",
       "      <td>0.0</td>\n",
       "      <td>0.369369</td>\n",
       "      <td>0.428571</td>\n",
       "      <td>0.745946</td>\n",
       "      <td>0.733333</td>\n",
       "    </tr>\n",
       "    <tr>\n",
       "      <th>4</th>\n",
       "      <td>0.0</td>\n",
       "      <td>0.130631</td>\n",
       "      <td>0.071429</td>\n",
       "      <td>0.000000</td>\n",
       "      <td>1.000000</td>\n",
       "    </tr>\n",
       "  </tbody>\n",
       "</table>\n",
       "</div>"
      ],
      "text/plain": [
       "   Homeowner  Credit_Score  Years_of_Credit_History  Revolving_Balance  \\\n",
       "0        1.0      0.810811                 0.500000           1.000000   \n",
       "1        0.0      0.000000                 0.000000           0.081081   \n",
       "2        1.0      0.585586                 0.642857           0.324324   \n",
       "3        0.0      0.369369                 0.428571           0.745946   \n",
       "4        0.0      0.130631                 0.071429           0.000000   \n",
       "\n",
       "   Revolving_Utilization  \n",
       "0               0.000000  \n",
       "1               1.000000  \n",
       "2               0.133333  \n",
       "3               0.733333  \n",
       "4               1.000000  "
      ]
     },
     "execution_count": 114,
     "metadata": {},
     "output_type": "execute_result"
    }
   ],
   "source": [
    "#df before prediction\n",
    "df_predict_minmax.head()"
   ]
  },
  {
   "cell_type": "code",
   "execution_count": 115,
   "metadata": {},
   "outputs": [],
   "source": [
    "#Predict\n",
    "X_new =  df_predict_minmax\n",
    "Y_pred = knn.predict(X_new)"
   ]
  },
  {
   "cell_type": "code",
   "execution_count": 116,
   "metadata": {},
   "outputs": [
    {
     "data": {
      "text/html": [
       "<div>\n",
       "<style scoped>\n",
       "    .dataframe tbody tr th:only-of-type {\n",
       "        vertical-align: middle;\n",
       "    }\n",
       "\n",
       "    .dataframe tbody tr th {\n",
       "        vertical-align: top;\n",
       "    }\n",
       "\n",
       "    .dataframe thead th {\n",
       "        text-align: right;\n",
       "    }\n",
       "</style>\n",
       "<table border=\"1\" class=\"dataframe\">\n",
       "  <thead>\n",
       "    <tr style=\"text-align: right;\">\n",
       "      <th></th>\n",
       "      <th>Homeowner</th>\n",
       "      <th>Credit_Score</th>\n",
       "      <th>Years_of_Credit_History</th>\n",
       "      <th>Revolving_Balance</th>\n",
       "      <th>Revolving_Utilization</th>\n",
       "      <th>Predicted_Decision</th>\n",
       "    </tr>\n",
       "  </thead>\n",
       "  <tbody>\n",
       "    <tr>\n",
       "      <th>0</th>\n",
       "      <td>1.0</td>\n",
       "      <td>0.810811</td>\n",
       "      <td>0.500000</td>\n",
       "      <td>1.000000</td>\n",
       "      <td>0.000000</td>\n",
       "      <td>1.0</td>\n",
       "    </tr>\n",
       "    <tr>\n",
       "      <th>1</th>\n",
       "      <td>0.0</td>\n",
       "      <td>0.000000</td>\n",
       "      <td>0.000000</td>\n",
       "      <td>0.081081</td>\n",
       "      <td>1.000000</td>\n",
       "      <td>0.0</td>\n",
       "    </tr>\n",
       "    <tr>\n",
       "      <th>2</th>\n",
       "      <td>1.0</td>\n",
       "      <td>0.585586</td>\n",
       "      <td>0.642857</td>\n",
       "      <td>0.324324</td>\n",
       "      <td>0.133333</td>\n",
       "      <td>1.0</td>\n",
       "    </tr>\n",
       "    <tr>\n",
       "      <th>3</th>\n",
       "      <td>0.0</td>\n",
       "      <td>0.369369</td>\n",
       "      <td>0.428571</td>\n",
       "      <td>0.745946</td>\n",
       "      <td>0.733333</td>\n",
       "      <td>0.0</td>\n",
       "    </tr>\n",
       "    <tr>\n",
       "      <th>4</th>\n",
       "      <td>0.0</td>\n",
       "      <td>0.130631</td>\n",
       "      <td>0.071429</td>\n",
       "      <td>0.000000</td>\n",
       "      <td>1.000000</td>\n",
       "      <td>0.0</td>\n",
       "    </tr>\n",
       "    <tr>\n",
       "      <th>5</th>\n",
       "      <td>1.0</td>\n",
       "      <td>1.000000</td>\n",
       "      <td>1.000000</td>\n",
       "      <td>0.767568</td>\n",
       "      <td>0.040000</td>\n",
       "      <td>1.0</td>\n",
       "    </tr>\n",
       "  </tbody>\n",
       "</table>\n",
       "</div>"
      ],
      "text/plain": [
       "   Homeowner  Credit_Score  Years_of_Credit_History  Revolving_Balance  \\\n",
       "0        1.0      0.810811                 0.500000           1.000000   \n",
       "1        0.0      0.000000                 0.000000           0.081081   \n",
       "2        1.0      0.585586                 0.642857           0.324324   \n",
       "3        0.0      0.369369                 0.428571           0.745946   \n",
       "4        0.0      0.130631                 0.071429           0.000000   \n",
       "5        1.0      1.000000                 1.000000           0.767568   \n",
       "\n",
       "   Revolving_Utilization  Predicted_Decision  \n",
       "0               0.000000                 1.0  \n",
       "1               1.000000                 0.0  \n",
       "2               0.133333                 1.0  \n",
       "3               0.733333                 0.0  \n",
       "4               1.000000                 0.0  \n",
       "5               0.040000                 1.0  "
      ]
     },
     "execution_count": 116,
     "metadata": {},
     "output_type": "execute_result"
    }
   ],
   "source": [
    "df_predict_minmax['Predicted_Decision'] = Y_pred\n",
    "df_predict_minmax.head(10)"
   ]
  },
  {
   "cell_type": "markdown",
   "metadata": {},
   "source": [
    "### Change numerical prediction to categorical"
   ]
  },
  {
   "cell_type": "code",
   "execution_count": 118,
   "metadata": {},
   "outputs": [
    {
     "data": {
      "text/html": [
       "<div>\n",
       "<style scoped>\n",
       "    .dataframe tbody tr th:only-of-type {\n",
       "        vertical-align: middle;\n",
       "    }\n",
       "\n",
       "    .dataframe tbody tr th {\n",
       "        vertical-align: top;\n",
       "    }\n",
       "\n",
       "    .dataframe thead th {\n",
       "        text-align: right;\n",
       "    }\n",
       "</style>\n",
       "<table border=\"1\" class=\"dataframe\">\n",
       "  <thead>\n",
       "    <tr style=\"text-align: right;\">\n",
       "      <th></th>\n",
       "      <th>Homeowner</th>\n",
       "      <th>Credit_Score</th>\n",
       "      <th>Years_of_Credit_History</th>\n",
       "      <th>Revolving_Balance</th>\n",
       "      <th>Revolving_Utilization</th>\n",
       "      <th>Predicted_Decision</th>\n",
       "    </tr>\n",
       "  </thead>\n",
       "  <tbody>\n",
       "    <tr>\n",
       "      <th>0</th>\n",
       "      <td>1.0</td>\n",
       "      <td>0.810811</td>\n",
       "      <td>0.500000</td>\n",
       "      <td>1.000000</td>\n",
       "      <td>0.000000</td>\n",
       "      <td>Approve</td>\n",
       "    </tr>\n",
       "    <tr>\n",
       "      <th>1</th>\n",
       "      <td>0.0</td>\n",
       "      <td>0.000000</td>\n",
       "      <td>0.000000</td>\n",
       "      <td>0.081081</td>\n",
       "      <td>1.000000</td>\n",
       "      <td>Reject</td>\n",
       "    </tr>\n",
       "    <tr>\n",
       "      <th>2</th>\n",
       "      <td>1.0</td>\n",
       "      <td>0.585586</td>\n",
       "      <td>0.642857</td>\n",
       "      <td>0.324324</td>\n",
       "      <td>0.133333</td>\n",
       "      <td>Approve</td>\n",
       "    </tr>\n",
       "    <tr>\n",
       "      <th>3</th>\n",
       "      <td>0.0</td>\n",
       "      <td>0.369369</td>\n",
       "      <td>0.428571</td>\n",
       "      <td>0.745946</td>\n",
       "      <td>0.733333</td>\n",
       "      <td>Reject</td>\n",
       "    </tr>\n",
       "    <tr>\n",
       "      <th>4</th>\n",
       "      <td>0.0</td>\n",
       "      <td>0.130631</td>\n",
       "      <td>0.071429</td>\n",
       "      <td>0.000000</td>\n",
       "      <td>1.000000</td>\n",
       "      <td>Reject</td>\n",
       "    </tr>\n",
       "    <tr>\n",
       "      <th>5</th>\n",
       "      <td>1.0</td>\n",
       "      <td>1.000000</td>\n",
       "      <td>1.000000</td>\n",
       "      <td>0.767568</td>\n",
       "      <td>0.040000</td>\n",
       "      <td>Approve</td>\n",
       "    </tr>\n",
       "  </tbody>\n",
       "</table>\n",
       "</div>"
      ],
      "text/plain": [
       "   Homeowner  Credit_Score  Years_of_Credit_History  Revolving_Balance  \\\n",
       "0        1.0      0.810811                 0.500000           1.000000   \n",
       "1        0.0      0.000000                 0.000000           0.081081   \n",
       "2        1.0      0.585586                 0.642857           0.324324   \n",
       "3        0.0      0.369369                 0.428571           0.745946   \n",
       "4        0.0      0.130631                 0.071429           0.000000   \n",
       "5        1.0      1.000000                 1.000000           0.767568   \n",
       "\n",
       "   Revolving_Utilization Predicted_Decision  \n",
       "0               0.000000            Approve  \n",
       "1               1.000000             Reject  \n",
       "2               0.133333            Approve  \n",
       "3               0.733333             Reject  \n",
       "4               1.000000             Reject  \n",
       "5               0.040000            Approve  "
      ]
     },
     "execution_count": 118,
     "metadata": {},
     "output_type": "execute_result"
    }
   ],
   "source": [
    "num_to_cat = {0: 'Reject',\n",
    "              1: 'Approve'}\n",
    "                      \n",
    "df_predict_minmax['Predicted_Decision'].replace(num_to_cat, inplace=True)\n",
    "df_predict_minmax.head(10)"
   ]
  },
  {
   "cell_type": "markdown",
   "metadata": {},
   "source": [
    "## Results\n",
    "\n",
    "The results suggest that the first, third and last credit applications should be approved, while the three others should be rejected."
   ]
  }
 ],
 "metadata": {
  "kernelspec": {
   "display_name": "Python 3",
   "language": "python",
   "name": "python3"
  },
  "language_info": {
   "codemirror_mode": {
    "name": "ipython",
    "version": 3
   },
   "file_extension": ".py",
   "mimetype": "text/x-python",
   "name": "python",
   "nbconvert_exporter": "python",
   "pygments_lexer": "ipython3",
   "version": "3.6.4"
  }
 },
 "nbformat": 4,
 "nbformat_minor": 2
}
