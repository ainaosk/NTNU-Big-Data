{
 "cells": [
  {
   "cell_type": "markdown",
   "metadata": {},
   "source": [
    "\n",
    "\n",
    "# Clustering using the k-means clustering algorithm\n",
    "\n",
    "## Dataset: Colleges and universities\n",
    "\n",
    "This notebook shows how to use the k-means clustering algorithm to cluster a dataset of 49 colleges and universities into 4 groups.\n",
    "\n",
    "The workflow is as follows:\n",
    "\n",
    "1. Data preparation\n",
    "    * convert categorical variables to numerical\n",
    "    * normalize all features  \n",
    "2. Clustering\n",
    "    * use KMeans from sklearn.cluster\n",
    "3. Visualize results\n",
    "    * use matplotlib"
   ]
  },
  {
   "cell_type": "markdown",
   "metadata": {},
   "source": [
    "## Import packages"
   ]
  },
  {
   "cell_type": "code",
   "execution_count": 1,
   "metadata": {},
   "outputs": [],
   "source": [
    "#Data preparation\n",
    "import numpy as np\n",
    "import pandas as pd\n",
    "\n",
    "#Clustering\n",
    "from sklearn.cluster import KMeans\n",
    "\n",
    "#Visualization\n",
    "import matplotlib.pyplot as plt\n",
    "%matplotlib inline"
   ]
  },
  {
   "cell_type": "markdown",
   "metadata": {},
   "source": [
    "## Load dataset"
   ]
  },
  {
   "cell_type": "code",
   "execution_count": 2,
   "metadata": {},
   "outputs": [
    {
     "data": {
      "text/html": [
       "<div>\n",
       "<style scoped>\n",
       "    .dataframe tbody tr th:only-of-type {\n",
       "        vertical-align: middle;\n",
       "    }\n",
       "\n",
       "    .dataframe tbody tr th {\n",
       "        vertical-align: top;\n",
       "    }\n",
       "\n",
       "    .dataframe thead th {\n",
       "        text-align: right;\n",
       "    }\n",
       "</style>\n",
       "<table border=\"1\" class=\"dataframe\">\n",
       "  <thead>\n",
       "    <tr style=\"text-align: right;\">\n",
       "      <th></th>\n",
       "      <th>School</th>\n",
       "      <th>Type</th>\n",
       "      <th>Median_SAT</th>\n",
       "      <th>Acceptance_Rate</th>\n",
       "      <th>Expenditures_Student</th>\n",
       "      <th>Top_10%_HS</th>\n",
       "      <th>Graduation_%</th>\n",
       "    </tr>\n",
       "  </thead>\n",
       "  <tbody>\n",
       "    <tr>\n",
       "      <th>0</th>\n",
       "      <td>Amherst</td>\n",
       "      <td>Lib Arts</td>\n",
       "      <td>1315</td>\n",
       "      <td>22%</td>\n",
       "      <td>$26,636</td>\n",
       "      <td>85</td>\n",
       "      <td>93</td>\n",
       "    </tr>\n",
       "    <tr>\n",
       "      <th>1</th>\n",
       "      <td>Barnard</td>\n",
       "      <td>Lib Arts</td>\n",
       "      <td>1220</td>\n",
       "      <td>53%</td>\n",
       "      <td>$17,653</td>\n",
       "      <td>69</td>\n",
       "      <td>80</td>\n",
       "    </tr>\n",
       "    <tr>\n",
       "      <th>2</th>\n",
       "      <td>Bates</td>\n",
       "      <td>Lib Arts</td>\n",
       "      <td>1240</td>\n",
       "      <td>36%</td>\n",
       "      <td>$17,554</td>\n",
       "      <td>58</td>\n",
       "      <td>88</td>\n",
       "    </tr>\n",
       "    <tr>\n",
       "      <th>3</th>\n",
       "      <td>Berkeley</td>\n",
       "      <td>University</td>\n",
       "      <td>1176</td>\n",
       "      <td>37%</td>\n",
       "      <td>$23,665</td>\n",
       "      <td>95</td>\n",
       "      <td>68</td>\n",
       "    </tr>\n",
       "    <tr>\n",
       "      <th>4</th>\n",
       "      <td>Bowdoin</td>\n",
       "      <td>Lib Arts</td>\n",
       "      <td>1300</td>\n",
       "      <td>24%</td>\n",
       "      <td>$25,703</td>\n",
       "      <td>78</td>\n",
       "      <td>90</td>\n",
       "    </tr>\n",
       "  </tbody>\n",
       "</table>\n",
       "</div>"
      ],
      "text/plain": [
       "     School        Type  Median_SAT Acceptance_Rate Expenditures_Student  \\\n",
       "0   Amherst    Lib Arts        1315             22%             $26,636    \n",
       "1   Barnard    Lib Arts        1220             53%             $17,653    \n",
       "2     Bates    Lib Arts        1240             36%             $17,554    \n",
       "3  Berkeley  University        1176             37%             $23,665    \n",
       "4   Bowdoin    Lib Arts        1300             24%             $25,703    \n",
       "\n",
       "   Top_10%_HS  Graduation_%  \n",
       "0          85            93  \n",
       "1          69            80  \n",
       "2          58            88  \n",
       "3          95            68  \n",
       "4          78            90  "
      ]
     },
     "execution_count": 2,
     "metadata": {},
     "output_type": "execute_result"
    }
   ],
   "source": [
    "#load dataset\n",
    "df = pd.read_csv('Colleges_and_uni.csv')\n",
    "df.head()"
   ]
  },
  {
   "cell_type": "markdown",
   "metadata": {},
   "source": [
    "## Explore dataset\n",
    "### Data types\n",
    "\n",
    "To use the k-means clustering algorithms, all variables must be numerical.\n",
    "DataFrame.dtypes returns a series with the data type of each column in the dataset."
   ]
  },
  {
   "cell_type": "code",
   "execution_count": 110,
   "metadata": {},
   "outputs": [
    {
     "data": {
      "text/plain": [
       "School                  object\n",
       "Type                    object\n",
       "Median_SAT               int64\n",
       "Acceptance_Rate         object\n",
       "Expenditures_Student    object\n",
       "Top_10%_HS               int64\n",
       "Graduation_%             int64\n",
       "dtype: object"
      ]
     },
     "execution_count": 110,
     "metadata": {},
     "output_type": "execute_result"
    }
   ],
   "source": [
    "df.dtypes"
   ]
  },
  {
   "cell_type": "markdown",
   "metadata": {},
   "source": [
    "The number of rows and columns in the dataset can be found with DataFrame.shape:"
   ]
  },
  {
   "cell_type": "code",
   "execution_count": 111,
   "metadata": {},
   "outputs": [
    {
     "data": {
      "text/plain": [
       "(49, 7)"
      ]
     },
     "execution_count": 111,
     "metadata": {},
     "output_type": "execute_result"
    }
   ],
   "source": [
    "df.shape"
   ]
  },
  {
   "cell_type": "markdown",
   "metadata": {},
   "source": [
    "As seen above, there are 49 rows and 8 columns in the dataset."
   ]
  },
  {
   "cell_type": "markdown",
   "metadata": {},
   "source": [
    "## Data preparation\n",
    "\n",
    "The data preparation stage includes the following:\n",
    "* Check dataset for missing values\n",
    "* Change data type of numerical values in 'Acceptance_Rate' and 'Expenditures_Student' from string to float \n",
    "* Convert categorical variables 'School' and 'Type' to numerical\n",
    "* Normalize features"
   ]
  },
  {
   "cell_type": "markdown",
   "metadata": {},
   "source": [
    "### Check dataset for missing values\n",
    "\n",
    "As this is a very small dataset, we already know that there are no missing values.\n",
    "It is however a good habit to establish for future work."
   ]
  },
  {
   "cell_type": "code",
   "execution_count": 112,
   "metadata": {},
   "outputs": [
    {
     "data": {
      "text/plain": [
       "School                  0\n",
       "Type                    0\n",
       "Median_SAT              0\n",
       "Acceptance_Rate         0\n",
       "Expenditures_Student    0\n",
       "Top_10%_HS              0\n",
       "Graduation_%            0\n",
       "dtype: int64"
      ]
     },
     "execution_count": 112,
     "metadata": {},
     "output_type": "execute_result"
    }
   ],
   "source": [
    "df.isna().sum()"
   ]
  },
  {
   "cell_type": "markdown",
   "metadata": {},
   "source": [
    "As expected, there are no missing values in the dataset."
   ]
  },
  {
   "cell_type": "markdown",
   "metadata": {},
   "source": [
    "### Convert string objects to float\n",
    "\n",
    "Both 'Acceptance_Rate' and 'Expenditures_Student' contain numerical data that is interpreted as strings in Python.\n",
    "* For 'Acceptance_Rate' we remove the % sign and change the data type to float. \n",
    "\n",
    "* For 'Expenditures_Student' we remove the $ sign and the comma. \n",
    "Then we change the data type to float."
   ]
  },
  {
   "cell_type": "code",
   "execution_count": 3,
   "metadata": {},
   "outputs": [],
   "source": [
    "#change data type of 'Acceptance_Rate' from object to float\n",
    "df['Acceptance_Rate'] = df['Acceptance_Rate'].str.rstrip('%').astype(float)/100\n",
    "\n",
    "#change data type of 'Expenditures_Student' from object to float\n",
    "df['Expenditures_Student'] = df['Expenditures_Student'].str.lstrip('$')\n",
    "df['Expenditures_Student'] = df['Expenditures_Student'].str.replace(',', '')\n",
    "df['Expenditures_Student'] = df['Expenditures_Student'].astype(float)"
   ]
  },
  {
   "cell_type": "markdown",
   "metadata": {},
   "source": [
    "### Convert categorical variables to numerical\n",
    "\n",
    "There are two categorical variables in this dataset: 'Type' and 'School'\n",
    "\n",
    "'School' includes 49 unique names for each school in the dataset. Therefore we can use the index values as numerical codes for these.\n",
    "\n",
    "The 'Type' column can be converted to numerical by assigning each of them with the numbers 0 and 1:"
   ]
  },
  {
   "cell_type": "code",
   "execution_count": 4,
   "metadata": {},
   "outputs": [],
   "source": [
    "cat_to_num = {'Lib Arts': 0, \n",
    "             'University': 1}\n",
    "\n",
    "df.replace(cat_to_num, inplace=True)"
   ]
  },
  {
   "cell_type": "markdown",
   "metadata": {},
   "source": [
    "We create new variables for columns 'School' and 'Type' to keep them for future use:"
   ]
  },
  {
   "cell_type": "code",
   "execution_count": 5,
   "metadata": {},
   "outputs": [],
   "source": [
    "#Create new variable 'df_schools'\n",
    "df_school = df['School']\n",
    "df_type = df['Type']"
   ]
  },
  {
   "cell_type": "markdown",
   "metadata": {},
   "source": [
    "As 'School' is not needed, we delete the column from the data set:"
   ]
  },
  {
   "cell_type": "code",
   "execution_count": 6,
   "metadata": {},
   "outputs": [],
   "source": [
    "#delete column 'School' from df\n",
    "df = df.drop(['School'], axis=1)"
   ]
  },
  {
   "cell_type": "markdown",
   "metadata": {},
   "source": [
    "By checking the data types of all columns, we can now see that all are numerical:"
   ]
  },
  {
   "cell_type": "code",
   "execution_count": 7,
   "metadata": {},
   "outputs": [
    {
     "data": {
      "text/plain": [
       "Type                      int64\n",
       "Median_SAT                int64\n",
       "Acceptance_Rate         float64\n",
       "Expenditures_Student    float64\n",
       "Top_10%_HS                int64\n",
       "Graduation_%              int64\n",
       "dtype: object"
      ]
     },
     "execution_count": 7,
     "metadata": {},
     "output_type": "execute_result"
    }
   ],
   "source": [
    "df.dtypes"
   ]
  },
  {
   "cell_type": "markdown",
   "metadata": {},
   "source": [
    "### Normalize features\n",
    "\n",
    "The last step of the data preparation stage is to normalize the features. In this case we use mean normalization:"
   ]
  },
  {
   "cell_type": "code",
   "execution_count": 8,
   "metadata": {},
   "outputs": [],
   "source": [
    "#mean normalization\n",
    "df = df.apply(lambda x: (x - np.mean(x)) / (np.max(x) - np.min(x)))"
   ]
  },
  {
   "cell_type": "markdown",
   "metadata": {},
   "source": [
    "The first five rows in the dataset are then as follows:"
   ]
  },
  {
   "cell_type": "code",
   "execution_count": 9,
   "metadata": {},
   "outputs": [
    {
     "data": {
      "text/html": [
       "<div>\n",
       "<style scoped>\n",
       "    .dataframe tbody tr th:only-of-type {\n",
       "        vertical-align: middle;\n",
       "    }\n",
       "\n",
       "    .dataframe tbody tr th {\n",
       "        vertical-align: top;\n",
       "    }\n",
       "\n",
       "    .dataframe thead th {\n",
       "        text-align: right;\n",
       "    }\n",
       "</style>\n",
       "<table border=\"1\" class=\"dataframe\">\n",
       "  <thead>\n",
       "    <tr style=\"text-align: right;\">\n",
       "      <th></th>\n",
       "      <th>Type</th>\n",
       "      <th>Median_SAT</th>\n",
       "      <th>Acceptance_Rate</th>\n",
       "      <th>Expenditures_Student</th>\n",
       "      <th>Top_10%_HS</th>\n",
       "      <th>Graduation_%</th>\n",
       "    </tr>\n",
       "  </thead>\n",
       "  <tbody>\n",
       "    <tr>\n",
       "      <th>0</th>\n",
       "      <td>-0.489796</td>\n",
       "      <td>0.178344</td>\n",
       "      <td>-0.322041</td>\n",
       "      <td>-0.039653</td>\n",
       "      <td>0.211685</td>\n",
       "      <td>0.304847</td>\n",
       "    </tr>\n",
       "    <tr>\n",
       "      <th>1</th>\n",
       "      <td>-0.489796</td>\n",
       "      <td>-0.148117</td>\n",
       "      <td>0.297959</td>\n",
       "      <td>-0.143673</td>\n",
       "      <td>-0.102041</td>\n",
       "      <td>-0.101403</td>\n",
       "    </tr>\n",
       "    <tr>\n",
       "      <th>2</th>\n",
       "      <td>-0.489796</td>\n",
       "      <td>-0.079388</td>\n",
       "      <td>-0.042041</td>\n",
       "      <td>-0.144820</td>\n",
       "      <td>-0.317727</td>\n",
       "      <td>0.148597</td>\n",
       "    </tr>\n",
       "    <tr>\n",
       "      <th>3</th>\n",
       "      <td>0.510204</td>\n",
       "      <td>-0.299320</td>\n",
       "      <td>-0.022041</td>\n",
       "      <td>-0.074056</td>\n",
       "      <td>0.407763</td>\n",
       "      <td>-0.476403</td>\n",
       "    </tr>\n",
       "    <tr>\n",
       "      <th>4</th>\n",
       "      <td>-0.489796</td>\n",
       "      <td>0.126797</td>\n",
       "      <td>-0.282041</td>\n",
       "      <td>-0.050457</td>\n",
       "      <td>0.074430</td>\n",
       "      <td>0.211097</td>\n",
       "    </tr>\n",
       "  </tbody>\n",
       "</table>\n",
       "</div>"
      ],
      "text/plain": [
       "       Type  Median_SAT  Acceptance_Rate  Expenditures_Student  Top_10%_HS  \\\n",
       "0 -0.489796    0.178344        -0.322041             -0.039653    0.211685   \n",
       "1 -0.489796   -0.148117         0.297959             -0.143673   -0.102041   \n",
       "2 -0.489796   -0.079388        -0.042041             -0.144820   -0.317727   \n",
       "3  0.510204   -0.299320        -0.022041             -0.074056    0.407763   \n",
       "4 -0.489796    0.126797        -0.282041             -0.050457    0.074430   \n",
       "\n",
       "   Graduation_%  \n",
       "0      0.304847  \n",
       "1     -0.101403  \n",
       "2      0.148597  \n",
       "3     -0.476403  \n",
       "4      0.211097  "
      ]
     },
     "execution_count": 9,
     "metadata": {},
     "output_type": "execute_result"
    }
   ],
   "source": [
    "df.head()"
   ]
  },
  {
   "cell_type": "markdown",
   "metadata": {},
   "source": [
    "## Clustering using k-means algorithm\n",
    "\n",
    "The dataset is now ready for clustering with the k-means algorithm. \n",
    "Scikit learn is a Machine Learning library in Python providing tools for classification, regression, clustering and more.\n",
    "\n",
    "The clustering package includes a function for the k-means clustering algorithm called 'KMeans':"
   ]
  },
  {
   "cell_type": "code",
   "execution_count": 10,
   "metadata": {},
   "outputs": [],
   "source": [
    "#k-means clustering algorithm\n",
    "kmeans = KMeans(n_clusters = 4)\n",
    "kmeans.fit(df)\n",
    "y_kmeans = kmeans.predict(df)"
   ]
  },
  {
   "cell_type": "markdown",
   "metadata": {},
   "source": [
    "### Results\n",
    "\n",
    "The results from the clustering can be seen in the visualization below:"
   ]
  },
  {
   "cell_type": "code",
   "execution_count": 11,
   "metadata": {},
   "outputs": [
    {
     "data": {
      "image/png": "[encoded data removed]",
      "text/plain": [
       "<matplotlib.figure.Figure at 0x1c4eeee9860>"
      ]
     },
     "metadata": {},
     "output_type": "display_data"
    }
   ],
   "source": [
    "plt.figure(figsize=(8, 6))\n",
    "plt.scatter(df.values[:, 0],df.values[:,1], c=y_kmeans, s=50, cmap='rainbow') \n",
    "plt.show()"
   ]
  },
  {
   "cell_type": "markdown",
   "metadata": {},
   "source": [
    "The results look a bit odd, most likely due to the categorical variable 'Type' that we converted earlier.\n",
    "The k-means clustering algorithm is not directly applicable to categorical data as it is based on calculated distances. \n",
    "We attempt to remove 'Type' from the dataset to see the results for only true numerical values.\n",
    "\n",
    "First we delete the column 'Type' from the dataset:"
   ]
  },
  {
   "cell_type": "code",
   "execution_count": 12,
   "metadata": {},
   "outputs": [],
   "source": [
    "#delete column 'Type' from df\n",
    "df = df.drop(['Type'], axis=1)"
   ]
  },
  {
   "cell_type": "markdown",
   "metadata": {},
   "source": [
    "We then run the k-means algorithm again on the updated dataset:"
   ]
  },
  {
   "cell_type": "code",
   "execution_count": 13,
   "metadata": {},
   "outputs": [],
   "source": [
    "#k-means clustering algorithm\n",
    "kmeans = KMeans(n_clusters = 4)\n",
    "kmeans.fit(df)\n",
    "y_kmeans = kmeans.predict(df)"
   ]
  },
  {
   "cell_type": "markdown",
   "metadata": {},
   "source": [
    "The results are visualized below:"
   ]
  },
  {
   "cell_type": "code",
   "execution_count": 14,
   "metadata": {},
   "outputs": [
    {
     "data": {
      "image/png": "[encoded data removed]",
      "text/plain": [
       "<matplotlib.figure.Figure at 0x1c4eeee9fd0>"
      ]
     },
     "metadata": {},
     "output_type": "display_data"
    }
   ],
   "source": [
    "plt.figure(figsize=(8, 6))\n",
    "plt.scatter(df.values[:, 0],df.values[:,1], c=y_kmeans, s=50, cmap='rainbow') \n",
    "plt.show()"
   ]
  },
  {
   "cell_type": "markdown",
   "metadata": {},
   "source": [
    "## Additional information\n",
    "\n",
    "### Export dataset with results to csv\n",
    "\n",
    "In case we want to analyze the results outside Python, we can include the k-means labels and the categorical variables, and then export the dataset to a csv file:"
   ]
  },
  {
   "cell_type": "code",
   "execution_count": 15,
   "metadata": {},
   "outputs": [],
   "source": [
    "#add new columns\n",
    "df['kmeans'] = kmeans.labels_\n",
    "df['School'] = df_school\n",
    "df['Type'] = df_type"
   ]
  },
  {
   "cell_type": "code",
   "execution_count": 16,
   "metadata": {},
   "outputs": [],
   "source": [
    "#export to csv\n",
    "df.to_csv('Colleges_and_uni_kmeans.csv')"
   ]
  },
  {
   "cell_type": "markdown",
   "metadata": {},
   "source": [
    "### Convert Jupyter Notebook to PDF\n",
    "\n",
    "A Jupyter Notebook can be converted to PDF through LaTeX.\n",
    "This can be done in the terminal:"
   ]
  },
  {
   "cell_type": "code",
   "execution_count": 127,
   "metadata": {},
   "outputs": [],
   "source": [
    "#jupyter nbconvert --to pdf coll_uni_optional.ipynb"
   ]
  }
 ],
 "metadata": {
  "kernelspec": {
   "display_name": "Python 3",
   "language": "python",
   "name": "python3"
  },
  "language_info": {
   "codemirror_mode": {
    "name": "ipython",
    "version": 3
   },
   "file_extension": ".py",
   "mimetype": "text/x-python",
   "name": "python",
   "nbconvert_exporter": "python",
   "pygments_lexer": "ipython3",
   "version": "3.6.4"
  }
 },
 "nbformat": 4,
 "nbformat_minor": 2
}
